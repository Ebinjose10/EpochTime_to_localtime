{
 "cells": [
  {
   "cell_type": "code",
   "execution_count": 131,
   "id": "faced-numbers",
   "metadata": {},
   "outputs": [],
   "source": [
    "import pandas as pd\n",
    "import numpy as np\n",
    "import time \n",
    "import datetime"
   ]
  },
  {
   "cell_type": "code",
   "execution_count": 132,
   "id": "descending-colors",
   "metadata": {},
   "outputs": [],
   "source": [
    "train_list = list()\n",
    "with open(\"sample-data.csv\") as input_file:\n",
    "    \n",
    "    for line in input_file:\n",
    "        line = line.strip()\n",
    "        array = line.split(',')\n",
    "        array_len=len(array)\n",
    "        train_list.append((array[0],array[1],array[2],array[3],array[4],array[5],array[6],array[7],array[8]))"
   ]
  },
  {
   "cell_type": "markdown",
   "id": "modular-rates",
   "metadata": {},
   "source": [
    "## Part 1: Epoch Time to Local Time"
   ]
  },
  {
   "cell_type": "code",
   "execution_count": 136,
   "id": "compatible-production",
   "metadata": {},
   "outputs": [
    {
     "data": {
      "text/html": [
       "<div>\n",
       "<style scoped>\n",
       "    .dataframe tbody tr th:only-of-type {\n",
       "        vertical-align: middle;\n",
       "    }\n",
       "\n",
       "    .dataframe tbody tr th {\n",
       "        vertical-align: top;\n",
       "    }\n",
       "\n",
       "    .dataframe thead th {\n",
       "        text-align: right;\n",
       "    }\n",
       "</style>\n",
       "<table border=\"1\" class=\"dataframe\">\n",
       "  <thead>\n",
       "    <tr style=\"text-align: right;\">\n",
       "      <th></th>\n",
       "      <th>time</th>\n",
       "      <th>accX</th>\n",
       "      <th>accY</th>\n",
       "      <th>accZ</th>\n",
       "      <th>gyrX</th>\n",
       "      <th>gyrZ</th>\n",
       "      <th>magX</th>\n",
       "      <th>magY</th>\n",
       "      <th>magZ</th>\n",
       "      <th>local_time</th>\n",
       "    </tr>\n",
       "  </thead>\n",
       "  <tbody>\n",
       "    <tr>\n",
       "      <th>1</th>\n",
       "      <td>1620022010</td>\n",
       "      <td>-5.5097656</td>\n",
       "      <td>-2.2207031</td>\n",
       "      <td>5.2089843</td>\n",
       "      <td>3.4179687</td>\n",
       "      <td>16.1132812</td>\n",
       "      <td>-30.9448242</td>\n",
       "      <td>-0.1751953</td>\n",
       "      <td>0.0063477</td>\n",
       "      <td>21/05/03 11:36:50</td>\n",
       "    </tr>\n",
       "    <tr>\n",
       "      <th>2</th>\n",
       "      <td>1620022010</td>\n",
       "      <td>-5.5332031</td>\n",
       "      <td>-2.2109375</td>\n",
       "      <td>5.2050781</td>\n",
       "      <td>-15.3808593</td>\n",
       "      <td>22.277832</td>\n",
       "      <td>-27.8930664</td>\n",
       "      <td>-0.1751953</td>\n",
       "      <td>0.0063477</td>\n",
       "      <td>21/05/03 11:36:50</td>\n",
       "    </tr>\n",
       "    <tr>\n",
       "      <th>3</th>\n",
       "      <td>1620022010</td>\n",
       "      <td>-5.5917969</td>\n",
       "      <td>-2.0976562</td>\n",
       "      <td>5.2519531</td>\n",
       "      <td>-28.5644531</td>\n",
       "      <td>27.2827148</td>\n",
       "      <td>-22.1557617</td>\n",
       "      <td>-0.1751953</td>\n",
       "      <td>0.0063477</td>\n",
       "      <td>21/05/03 11:36:50</td>\n",
       "    </tr>\n",
       "    <tr>\n",
       "      <th>4</th>\n",
       "      <td>1620022011</td>\n",
       "      <td>-5.5175781</td>\n",
       "      <td>-2.1074218</td>\n",
       "      <td>5.2207031</td>\n",
       "      <td>-43.0297851</td>\n",
       "      <td>37.8417969</td>\n",
       "      <td>-6.1035156</td>\n",
       "      <td>-0.1751953</td>\n",
       "      <td>0.0063477</td>\n",
       "      <td>21/05/03 11:36:51</td>\n",
       "    </tr>\n",
       "    <tr>\n",
       "      <th>5</th>\n",
       "      <td>1620022011</td>\n",
       "      <td>-5.5625</td>\n",
       "      <td>-2.1523437</td>\n",
       "      <td>5.3066406</td>\n",
       "      <td>-57.6171875</td>\n",
       "      <td>41.5039062</td>\n",
       "      <td>12.4511719</td>\n",
       "      <td>-0.1751953</td>\n",
       "      <td>0.0063477</td>\n",
       "      <td>21/05/03 11:36:51</td>\n",
       "    </tr>\n",
       "  </tbody>\n",
       "</table>\n",
       "</div>"
      ],
      "text/plain": [
       "         time        accX        accY       accZ         gyrX        gyrZ  \\\n",
       "1  1620022010  -5.5097656  -2.2207031  5.2089843    3.4179687  16.1132812   \n",
       "2  1620022010  -5.5332031  -2.2109375  5.2050781  -15.3808593   22.277832   \n",
       "3  1620022010  -5.5917969  -2.0976562  5.2519531  -28.5644531  27.2827148   \n",
       "4  1620022011  -5.5175781  -2.1074218  5.2207031  -43.0297851  37.8417969   \n",
       "5  1620022011     -5.5625  -2.1523437  5.3066406  -57.6171875  41.5039062   \n",
       "\n",
       "          magX        magY       magZ         local_time  \n",
       "1  -30.9448242  -0.1751953  0.0063477  21/05/03 11:36:50  \n",
       "2  -27.8930664  -0.1751953  0.0063477  21/05/03 11:36:50  \n",
       "3  -22.1557617  -0.1751953  0.0063477  21/05/03 11:36:50  \n",
       "4   -6.1035156  -0.1751953  0.0063477  21/05/03 11:36:51  \n",
       "5   12.4511719  -0.1751953  0.0063477  21/05/03 11:36:51  "
      ]
     },
     "execution_count": 136,
     "metadata": {},
     "output_type": "execute_result"
    }
   ],
   "source": [
    "df=pd.DataFrame(train_list)\n",
    "df.drop(0,axis=0, inplace=True)\n",
    "df.columns = ['time','accX','accY','accZ','gyrX','gyrZ','magX','magY','magZ']\n",
    "df['local_time'] = df['time'].apply(lambda x: time.strftime('%y/%m/%d %H:%M:%S', time.localtime(int(x))))\n",
    "df.head(5)"
   ]
  },
  {
   "cell_type": "markdown",
   "id": "arbitrary-european",
   "metadata": {},
   "source": [
    "## Part 2: Sum of column Range"
   ]
  },
  {
   "cell_type": "code",
   "execution_count": 138,
   "id": "russian-corrections",
   "metadata": {},
   "outputs": [
    {
     "name": "stdout",
     "output_type": "stream",
     "text": [
      "Enter Label Value:3\n",
      "Enter Start Row:4\n",
      "Enter End Row:5\n",
      "\n",
      "\n",
      "Sum of Elements from Row No. 4 to 5, in column number 3 is 5.3066406\n"
     ]
    }
   ],
   "source": [
    "label = int(input(\"Enter Label Value:\"))\n",
    "row_num_1 = int(input(\"Enter Start Row:\"))\n",
    "row_num_2 = int(input(\"Enter End Row:\"))\n",
    "\n",
    "sum_of_range = df.iloc[row_num_1:row_num_2,label].apply(lambda x: float(x)).sum()\n",
    "print(\"\\n\\nSum of Elements from Row No. {} to {}, in column number {} is {}\".format(row_num_1, row_num_2, label, sum_of_range))"
   ]
  },
  {
   "cell_type": "code",
   "execution_count": null,
   "id": "expanded-freedom",
   "metadata": {},
   "outputs": [],
   "source": []
  }
 ],
 "metadata": {
  "kernelspec": {
   "display_name": "Python 3",
   "language": "python",
   "name": "python3"
  },
  "language_info": {
   "codemirror_mode": {
    "name": "ipython",
    "version": 3
   },
   "file_extension": ".py",
   "mimetype": "text/x-python",
   "name": "python",
   "nbconvert_exporter": "python",
   "pygments_lexer": "ipython3",
   "version": "3.8.5"
  }
 },
 "nbformat": 4,
 "nbformat_minor": 5
}
